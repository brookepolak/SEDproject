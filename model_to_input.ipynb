{
 "cells": [
  {
   "cell_type": "code",
   "execution_count": 24,
   "metadata": {},
   "outputs": [],
   "source": [
    "import numpy as np"
   ]
  },
  {
   "cell_type": "code",
   "execution_count": 25,
   "metadata": {},
   "outputs": [],
   "source": [
    "with open('models-block-0.txt', 'r') as f:\n",
    "    fit = f.readlines()\n",
    "\n",
    "for row in range(len(fit)):\n",
    "    fit[row] = list(filter(str.strip,fit[row].split(' ')))"
   ]
  },
  {
   "cell_type": "code",
   "execution_count": 26,
   "metadata": {},
   "outputs": [],
   "source": [
    "#creates dictionary[galaxy id][value/filter name]\n",
    "#returns photometry or sfr/Mstar for modeled galaxies\n",
    "galaxy_dict = {}\n",
    "for row in fit[1:]:\n",
    "    galaxy_dict[row[0]] = {}\n",
    "    for i,item in enumerate(row):\n",
    "        galaxy_dict[row[0]][fit[0][i]] = float(item)"
   ]
  },
  {
   "cell_type": "code",
   "execution_count": 27,
   "metadata": {},
   "outputs": [],
   "source": [
    "#Dictionary holding upper limits for filters\n",
    "upper_limits = {}\n",
    "#LSST & WFIRST limits [AB magnitude -> mJy]\n",
    "limits = np.array([25.0,27.0,27.0,27.0,25.0,24.4,27.13,27.14,27.12,26.15], dtype=float)\n",
    "limits = 10**((23.9-limits)/2.5 - 3)\n",
    "upper_limits['LSST-u'] = limits[0]\n",
    "upper_limits['LSST-g'] = limits[1]\n",
    "upper_limits['LSST-r'] = limits[2]\n",
    "upper_limits['LSST-i'] = limits[3]\n",
    "upper_limits['LSST-z'] = limits[4]\n",
    "upper_limits['LSST-y'] = limits[5]\n",
    "upper_limits['WFIRST_106'] = limits[6]\n",
    "upper_limits['WFIRST_129'] = limits[7]\n",
    "upper_limits['WFIRST_158'] = limits[8]\n",
    "upper_limits['WFIRST_184'] = limits[9]\n",
    "\n",
    "# 50, 250, & 850um upper limits\n",
    "upper_limits['IRAS3'] = .0382\n",
    "upper_limits['PSW'] = .0866\n",
    "upper_limits['SCUBA850'] = 1.0"
   ]
  },
  {
   "cell_type": "code",
   "execution_count": 28,
   "metadata": {},
   "outputs": [],
   "source": [
    "lsst_wfirst = ['LSST-u','LSST-g','LSST-r','LSST-i','LSST-z','LSST-y','WFIRST_106','WFIRST_129','WFIRST_158','WFIRST_184']\n",
    "u50 = ['IRAS3']\n",
    "u250 = ['PSW']\n",
    "u850 = ['SCUBA850']\n",
    "\n",
    "combos = {}\n",
    "combos['LW'] = lsst_wfirst\n",
    "combos['LW50'] = lsst_wfirst+u50\n",
    "combos['LW250'] = lsst_wfirst+u250\n",
    "combos['LW850'] = lsst_wfirst+u850\n",
    "combos['LW50250850'] = lsst_wfirst+u50+u250+u850\n",
    "combos['50250850'] = u50+u250+u850"
   ]
  },
  {
   "cell_type": "code",
   "execution_count": 29,
   "metadata": {},
   "outputs": [],
   "source": [
    "min_sfr = 1e-3\n",
    "z = 0.1\n",
    "\n",
    "# Creat Cigale input for all photometry combos with models above minimum sfr at designated redshift\n",
    "for filename in combos.keys():\n",
    "    f = open(\"input_files/z\"+filename+\".txt\",'w')\n",
    "    f.write(\"#id\\tredshift\\t\")\n",
    "    f.write('\\t'.join(combos[filename])+'\\n')\n",
    "    for galaxy in galaxy_dict.keys():\n",
    "        if( galaxy_dict[galaxy]['sfh.sfr'] >= min_sfr ):\n",
    "            f.write(galaxy+'\\t'+str(z)+'\\t')\n",
    "            for filtername in combos[filename]:\n",
    "                if( galaxy_dict[galaxy][filtername] >= upper_limits[filtername] ):\n",
    "                    f.write(str(galaxy_dict[galaxy][filtername])+'\\t')\n",
    "                else:\n",
    "                    f.write(str(-galaxy_dict[galaxy][filtername])+'\\t')\n",
    "            f.write('\\n')\n",
    "f.close()"
   ]
  },
  {
   "cell_type": "code",
   "execution_count": null,
   "metadata": {},
   "outputs": [],
   "source": []
  }
 ],
 "metadata": {
  "kernelspec": {
   "display_name": "Python 2",
   "language": "python",
   "name": "python2"
  },
  "language_info": {
   "codemirror_mode": {
    "name": "ipython",
    "version": 2
   },
   "file_extension": ".py",
   "mimetype": "text/x-python",
   "name": "python",
   "nbconvert_exporter": "python",
   "pygments_lexer": "ipython2",
   "version": "2.7.13"
  }
 },
 "nbformat": 4,
 "nbformat_minor": 2
}
