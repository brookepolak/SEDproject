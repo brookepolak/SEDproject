{
 "cells": [
  {
   "cell_type": "code",
   "execution_count": 3,
   "metadata": {},
   "outputs": [],
   "source": [
    "import numpy as np\n",
    "import matplotlib.pyplot as plt\n",
    "from astropy.cosmology import WMAP9 as cosmo"
   ]
  },
  {
   "cell_type": "code",
   "execution_count": 4,
   "metadata": {},
   "outputs": [],
   "source": [
    "# Mstar -> SFR equation: Schreiber et al. 2015\n",
    "# SFR -> t_age,tau equation: Noll et al. 2009 \n",
    "# tau from 20-5000 Myr"
   ]
  },
  {
   "cell_type": "code",
   "execution_count": 19,
   "metadata": {},
   "outputs": [],
   "source": [
    "def get_tau(sfr, Mstar, redshift):\n",
    "    age_universe = cosmo.age(redshift).value*1e9\n",
    "    tau = np.arange(10000,1000000000,10000)[::-1]\n",
    "    t_ages = []\n",
    "    for j in range(len(Mstar)):\n",
    "        tage = age_universe\n",
    "        i = -1\n",
    "        while (tage >= age_universe):\n",
    "            i += 1\n",
    "            tage = tau[i]*(np.log(Mstar[j]/(tau[i]*sfr[j]) + 1.0))\n",
    "        t_ages.append(tage)\n",
    "    return (tau[i],np.array(t_ages))\n",
    "\n",
    "def get_MS_sfr(Mstar, z):\n",
    "    r = np.log10(1 + z)\n",
    "    # m0 = np.random.normal(loc=0.5,scale=0.07)\n",
    "    # a0 = np.random.normal(loc=1.5,scale=0.15)\n",
    "    # a1 = np.random.normal(loc=0.3,scale=0.08)\n",
    "    # m1 = np.random.normal(loc=.36,scale=0.30)\n",
    "    # a2 = np.random.normal(loc=2.5,scale=0.60)\n",
    "    m0 = 0.5\n",
    "    a0 = 1.5\n",
    "    a1 = 0.3\n",
    "    m1 = .36\n",
    "    a2 = 2.5\n",
    "    m_scaled = np.log10(m_star/10**9)\n",
    "    sfr = [(10**(m - m0 + a0*r - a1*(max(0,m-m1-a2*r))**2)) for m in m_scaled]\n",
    "    return sfr\n",
    "\n",
    "def get_sfr(Mstar, tau, t_age):\n",
    "    sfr = Mstar/(tau*(np.exp(t_age/tau)-1))\n",
    "    return sfr"
   ]
  },
  {
   "cell_type": "code",
   "execution_count": 20,
   "metadata": {},
   "outputs": [
    {
     "data": {
      "image/png": "[encoded data removed]",
      "text/plain": [
       "<matplotlib.figure.Figure at 0x10bcdda10>"
      ]
     },
     "metadata": {},
     "output_type": "display_data"
    }
   ],
   "source": [
    "z = .10\n",
    "m_star = np.logspace(start=8,stop=11,num=4,base=10)\n",
    "m_star = np.append(m_star,10**11.5)\n",
    "sfr = get_MS_sfr(m_star,z)\n",
    "tau,t_age = get_tau(sfr,m_star,z)\n",
    "\n",
    "tau_lower_sfr = tau*10.0\n",
    "t_age_lower_sfr = t_age*10.0\n",
    "sfr_lower = get_sfr(m_star,tau_lower_sfr,t_age_lower_sfr)\n",
    "\n",
    "sfr_elliptical = np.ones(2)*1e-2\n",
    "tau_elliptical_sfr, t_age_elliptical_sfr = get_tau(sfr_elliptical,m_star[-2:],z)\n",
    "\n",
    "fig, ax = plt.subplots()\n",
    "ax.loglog(m_star,sfr,'b.',label=\"Main Sequence\")\n",
    "ax.loglog(m_star,sfr_lower,'r.')\n",
    "ax.loglog(m_star[-2:],sfr_elliptical,'g.',label=\"Elliptical\")\n",
    "plt.legend()\n",
    "plt.ylabel(\"SFR\")\n",
    "plt.xlabel(\"Mstar\")\n",
    "\n",
    "for i in range(len(sfr)):\n",
    "    ax.annotate(i+1, (m_star[i], sfr[i]))\n",
    "    ax.annotate(i+len(sfr),(m_star[i],sfr_lower[i]))\n",
    "\n",
    "for j in range(len(sfr_elliptical)):\n",
    "    ax.annotate(i+len(sfr)+1,(m_star[-2:][j],sfr_elliptical[j]))\n",
    "    i += 1\n",
    "\n",
    "plt.show()"
   ]
  },
  {
   "cell_type": "code",
   "execution_count": null,
   "metadata": {},
   "outputs": [],
   "source": []
  }
 ],
 "metadata": {
  "kernelspec": {
   "display_name": "Python 2",
   "language": "python",
   "name": "python2"
  },
  "language_info": {
   "codemirror_mode": {
    "name": "ipython",
    "version": 2
   },
   "file_extension": ".py",
   "mimetype": "text/x-python",
   "name": "python",
   "nbconvert_exporter": "python",
   "pygments_lexer": "ipython2",
   "version": "2.7.13"
  }
 },
 "nbformat": 4,
 "nbformat_minor": 2
}
